{
 "cells": [
  {
   "cell_type": "code",
   "execution_count": 2,
   "metadata": {},
   "outputs": [],
   "source": [
    "import pathlib\n",
    "import pandas as pd"
   ]
  },
  {
   "cell_type": "code",
   "execution_count": 3,
   "metadata": {},
   "outputs": [
    {
     "data": {
      "text/plain": [
       "True"
      ]
     },
     "execution_count": 3,
     "metadata": {},
     "output_type": "execute_result"
    }
   ],
   "source": [
    "csv_data_dir = pathlib.Path.cwd() / \"ml-25m\"\n",
    "csv_data_dir.exists()"
   ]
  },
  {
   "cell_type": "code",
   "execution_count": 4,
   "metadata": {},
   "outputs": [],
   "source": [
    "tags_genome = csv_data_dir / \"genome-tags.csv\"\n",
    "movies = csv_data_dir / \"movies.csv\"\n",
    "movie_tags = csv_data_dir / \"genome-scores.csv\"\n",
    "links = csv_data_dir / \"links.csv\"\n",
    "ratings = csv_data_dir / \"ratings.csv\"\n",
    "tags = csv_data_dir / \"tags.csv\"\n",
    "\n",
    "tags_genome = pd.read_csv(tags_genome)\n",
    "movies = pd.read_csv(movies)\n",
    "movie_tags = pd.read_csv(movie_tags)\n",
    "links = pd.read_csv(links)\n",
    "ratings = pd.read_csv(ratings).drop(columns=[\"timestamp\"])\n",
    "tags = pd.read_csv(tags).drop(columns=[\"timestamp\"])"
   ]
  },
  {
   "cell_type": "code",
   "execution_count": 12,
   "metadata": {},
   "outputs": [],
   "source": [
    "# Merge ratings and movies DataFrames on 'movieId' column\n",
    "merged_data = pd.merge(ratings, movies, on='movieId')\n",
    "\n",
    "# Function to create user-specific data and save it to user_data.csv\n",
    "def create_user_data(user_id):\n",
    "    user_specific_data = merged_data[merged_data['userId'] == user_id]\n",
    "    user_specific_data.to_csv(f'user_{user_id}_data.csv', index=False)\n",
    "    return user_specific_data\n",
    "\n",
    "# Replace 'user_id' with the specific user ID you want to create data for\n",
    "user_id = 2  # For example, user ID 1\n",
    "\n",
    "# Create user-specific data and save it to user_data.csv\n",
    "data = create_user_data(user_id)"
   ]
  },
  {
   "cell_type": "code",
   "execution_count": 13,
   "metadata": {},
   "outputs": [
    {
     "data": {
      "text/html": [
       "<div>\n",
       "<style scoped>\n",
       "    .dataframe tbody tr th:only-of-type {\n",
       "        vertical-align: middle;\n",
       "    }\n",
       "\n",
       "    .dataframe tbody tr th {\n",
       "        vertical-align: top;\n",
       "    }\n",
       "\n",
       "    .dataframe thead th {\n",
       "        text-align: right;\n",
       "    }\n",
       "</style>\n",
       "<table border=\"1\" class=\"dataframe\">\n",
       "  <thead>\n",
       "    <tr style=\"text-align: right;\">\n",
       "      <th></th>\n",
       "      <th>userId</th>\n",
       "      <th>movieId</th>\n",
       "      <th>rating</th>\n",
       "      <th>title</th>\n",
       "      <th>genres</th>\n",
       "    </tr>\n",
       "  </thead>\n",
       "  <tbody>\n",
       "    <tr>\n",
       "      <th>152300</th>\n",
       "      <td>2</td>\n",
       "      <td>1653</td>\n",
       "      <td>4.5</td>\n",
       "      <td>Gattaca (1997)</td>\n",
       "      <td>Drama|Sci-Fi|Thriller</td>\n",
       "    </tr>\n",
       "    <tr>\n",
       "      <th>350482</th>\n",
       "      <td>2</td>\n",
       "      <td>5952</td>\n",
       "      <td>5.0</td>\n",
       "      <td>Lord of the Rings: The Two Towers, The (2002)</td>\n",
       "      <td>Adventure|Fantasy</td>\n",
       "    </tr>\n",
       "    <tr>\n",
       "      <th>457446</th>\n",
       "      <td>2</td>\n",
       "      <td>6539</td>\n",
       "      <td>5.0</td>\n",
       "      <td>Pirates of the Caribbean: The Curse of the Bla...</td>\n",
       "      <td>Action|Adventure|Comedy|Fantasy</td>\n",
       "    </tr>\n",
       "    <tr>\n",
       "      <th>569637</th>\n",
       "      <td>2</td>\n",
       "      <td>8360</td>\n",
       "      <td>4.0</td>\n",
       "      <td>Shrek 2 (2004)</td>\n",
       "      <td>Adventure|Animation|Children|Comedy|Musical|Ro...</td>\n",
       "    </tr>\n",
       "    <tr>\n",
       "      <th>601190</th>\n",
       "      <td>2</td>\n",
       "      <td>1</td>\n",
       "      <td>3.5</td>\n",
       "      <td>Toy Story (1995)</td>\n",
       "      <td>Adventure|Animation|Children|Comedy|Fantasy</td>\n",
       "    </tr>\n",
       "  </tbody>\n",
       "</table>\n",
       "</div>"
      ],
      "text/plain": [
       "        userId  movieId  rating  \\\n",
       "152300       2     1653     4.5   \n",
       "350482       2     5952     5.0   \n",
       "457446       2     6539     5.0   \n",
       "569637       2     8360     4.0   \n",
       "601190       2        1     3.5   \n",
       "\n",
       "                                                    title  \\\n",
       "152300                                     Gattaca (1997)   \n",
       "350482      Lord of the Rings: The Two Towers, The (2002)   \n",
       "457446  Pirates of the Caribbean: The Curse of the Bla...   \n",
       "569637                                     Shrek 2 (2004)   \n",
       "601190                                   Toy Story (1995)   \n",
       "\n",
       "                                                   genres  \n",
       "152300                              Drama|Sci-Fi|Thriller  \n",
       "350482                                  Adventure|Fantasy  \n",
       "457446                    Action|Adventure|Comedy|Fantasy  \n",
       "569637  Adventure|Animation|Children|Comedy|Musical|Ro...  \n",
       "601190        Adventure|Animation|Children|Comedy|Fantasy  "
      ]
     },
     "execution_count": 13,
     "metadata": {},
     "output_type": "execute_result"
    }
   ],
   "source": [
    "data.head()"
   ]
  },
  {
   "cell_type": "code",
   "execution_count": 14,
   "metadata": {},
   "outputs": [
    {
     "data": {
      "text/html": [
       "<div>\n",
       "<style scoped>\n",
       "    .dataframe tbody tr th:only-of-type {\n",
       "        vertical-align: middle;\n",
       "    }\n",
       "\n",
       "    .dataframe tbody tr th {\n",
       "        vertical-align: top;\n",
       "    }\n",
       "\n",
       "    .dataframe thead th {\n",
       "        text-align: right;\n",
       "    }\n",
       "</style>\n",
       "<table border=\"1\" class=\"dataframe\">\n",
       "  <thead>\n",
       "    <tr style=\"text-align: right;\">\n",
       "      <th></th>\n",
       "      <th>genre_name</th>\n",
       "    </tr>\n",
       "    <tr>\n",
       "      <th>genre_id</th>\n",
       "      <th></th>\n",
       "    </tr>\n",
       "  </thead>\n",
       "  <tbody>\n",
       "    <tr>\n",
       "      <th>0</th>\n",
       "      <td>Action</td>\n",
       "    </tr>\n",
       "    <tr>\n",
       "      <th>1</th>\n",
       "      <td>Adventure</td>\n",
       "    </tr>\n",
       "    <tr>\n",
       "      <th>2</th>\n",
       "      <td>Animation</td>\n",
       "    </tr>\n",
       "    <tr>\n",
       "      <th>3</th>\n",
       "      <td>Children</td>\n",
       "    </tr>\n",
       "    <tr>\n",
       "      <th>4</th>\n",
       "      <td>Comedy</td>\n",
       "    </tr>\n",
       "  </tbody>\n",
       "</table>\n",
       "</div>"
      ],
      "text/plain": [
       "         genre_name\n",
       "genre_id           \n",
       "0            Action\n",
       "1         Adventure\n",
       "2         Animation\n",
       "3          Children\n",
       "4            Comedy"
      ]
     },
     "execution_count": 14,
     "metadata": {},
     "output_type": "execute_result"
    }
   ],
   "source": [
    "genre_list = [\"Action\",\n",
    "\"Adventure\",\n",
    "\"Animation\",\n",
    "\"Children\",\n",
    "\"Comedy\",\n",
    "\"Crime\",\n",
    "\"Documentary\",\n",
    "\"Drama\",\n",
    "\"Fantasy\",\n",
    "\"Film-Noir\",\n",
    "\"Horror\",\n",
    "\"Musical\",\n",
    "\"Mystery\",\n",
    "\"Romance\",\n",
    "\"Sci-Fi\",\n",
    "\"Thriller\",\n",
    "\"War\",\n",
    "\"Western\",\n",
    "\"IMAX\",\n",
    "\"(no genres listed)\"]\n",
    "genre_ids = [i for i in range(len(genre_list))]\n",
    "genre_df = pd.DataFrame({\"genre_id\": genre_ids, \"genre_name\": genre_list})\n",
    "genre_df.set_index(\"genre_id\", inplace=True)\n",
    "genre_df.head()"
   ]
  },
  {
   "cell_type": "code",
   "execution_count": 16,
   "metadata": {},
   "outputs": [],
   "source": [
    "tables = {\n",
    "    \"movies\": movies,\n",
    "    \"genres\": genre_df,\n",
    "    \"users\": pd.DataFrame({\"user_id\": []}),\n",
    "    \"tag_options\": tags_genome,\n",
    "    \"ratings\": ratings,\n",
    "    \"movie_genres\": pd.DataFrame({\"movie_id\": [], \"genre_id\": []}),\n",
    "    \"movie_tags\": movie_tags,\n",
    "    \"tag_instances\": tags,\n",
    "    \"user_data_2\": data,\n",
    "}"
   ]
  },
  {
   "cell_type": "code",
   "execution_count": null,
   "metadata": {},
   "outputs": [],
   "source": [
    "for name, df in tables.items():\n",
    "    p = csv_data_dir.parent / \"processed_csvs\"\n",
    "    assert p.exists()\n",
    "    p = p / f\"{name}.csv\"\n",
    "    df.to_csv(p)"
   ]
  }
 ],
 "metadata": {
  "kernelspec": {
   "display_name": "Python 3",
   "language": "python",
   "name": "python3"
  },
  "language_info": {
   "codemirror_mode": {
    "name": "ipython",
    "version": 3
   },
   "file_extension": ".py",
   "mimetype": "text/x-python",
   "name": "python",
   "nbconvert_exporter": "python",
   "pygments_lexer": "ipython3",
   "version": "3.9.13"
  }
 },
 "nbformat": 4,
 "nbformat_minor": 2
}
